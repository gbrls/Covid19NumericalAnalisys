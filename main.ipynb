{
 "cells": [
  {
   "cell_type": "code",
   "execution_count": 4,
   "metadata": {},
   "outputs": [],
   "source": [
    "import matplotlib.pyplot as plt\n",
    "from math import *\n",
    "import numpy as np\n",
    "import pandas as pd\n",
    "from scipy.integrate import odeint\n",
    "from datetime import date\n",
    "import time\n",
    "import matplotlib.dates as mdates\n",
    "\n"
   ]
  },
  {
   "cell_type": "code",
   "execution_count": 169,
   "metadata": {},
   "outputs": [
    {
     "name": "stdout",
     "output_type": "stream",
     "text": [
      "<class 'pandas.core.indexes.datetimes.DatetimeIndex'>\n"
     ]
    },
    {
     "data": {
      "text/html": [
       "<div>\n",
       "<style scoped>\n",
       "    .dataframe tbody tr th:only-of-type {\n",
       "        vertical-align: middle;\n",
       "    }\n",
       "\n",
       "    .dataframe tbody tr th {\n",
       "        vertical-align: top;\n",
       "    }\n",
       "\n",
       "    .dataframe thead th {\n",
       "        text-align: right;\n",
       "    }\n",
       "</style>\n",
       "<table border=\"1\" class=\"dataframe\">\n",
       "  <thead>\n",
       "    <tr style=\"text-align: right;\">\n",
       "      <th></th>\n",
       "      <th>confirmados</th>\n",
       "      <th>obitos</th>\n",
       "      <th>recuperados</th>\n",
       "    </tr>\n",
       "  </thead>\n",
       "  <tbody>\n",
       "    <tr>\n",
       "      <th>2020-07-01</th>\n",
       "      <td>61119</td>\n",
       "      <td>4968</td>\n",
       "      <td>41925</td>\n",
       "    </tr>\n",
       "    <tr>\n",
       "      <th>2020-07-02</th>\n",
       "      <td>62362</td>\n",
       "      <td>5068</td>\n",
       "      <td>42456</td>\n",
       "    </tr>\n",
       "    <tr>\n",
       "      <th>2020-07-03</th>\n",
       "      <td>63457</td>\n",
       "      <td>5116</td>\n",
       "      <td>44314</td>\n",
       "    </tr>\n",
       "    <tr>\n",
       "      <th>2020-07-04</th>\n",
       "      <td>65129</td>\n",
       "      <td>5143</td>\n",
       "      <td>44568</td>\n",
       "    </tr>\n",
       "    <tr>\n",
       "      <th>2020-07-05</th>\n",
       "      <td>65642</td>\n",
       "      <td>5163</td>\n",
       "      <td>46417</td>\n",
       "    </tr>\n",
       "    <tr>\n",
       "      <th>...</th>\n",
       "      <td>...</td>\n",
       "      <td>...</td>\n",
       "      <td>...</td>\n",
       "    </tr>\n",
       "    <tr>\n",
       "      <th>2021-10-27</th>\n",
       "      <td>630520</td>\n",
       "      <td>19990</td>\n",
       "      <td>568818</td>\n",
       "    </tr>\n",
       "    <tr>\n",
       "      <th>2021-10-28</th>\n",
       "      <td>630980</td>\n",
       "      <td>20001</td>\n",
       "      <td>569115</td>\n",
       "    </tr>\n",
       "    <tr>\n",
       "      <th>2021-10-29</th>\n",
       "      <td>631632</td>\n",
       "      <td>20007</td>\n",
       "      <td>569986</td>\n",
       "    </tr>\n",
       "    <tr>\n",
       "      <th>2021-10-30</th>\n",
       "      <td>631892</td>\n",
       "      <td>20018</td>\n",
       "      <td>570246</td>\n",
       "    </tr>\n",
       "    <tr>\n",
       "      <th>2021-10-31</th>\n",
       "      <td>632011</td>\n",
       "      <td>20025</td>\n",
       "      <td>570293</td>\n",
       "    </tr>\n",
       "  </tbody>\n",
       "</table>\n",
       "<p>488 rows × 3 columns</p>\n",
       "</div>"
      ],
      "text/plain": [
       "            confirmados  obitos  recuperados\n",
       "2020-07-01        61119    4968        41925\n",
       "2020-07-02        62362    5068        42456\n",
       "2020-07-03        63457    5116        44314\n",
       "2020-07-04        65129    5143        44568\n",
       "2020-07-05        65642    5163        46417\n",
       "...                 ...     ...          ...\n",
       "2021-10-27       630520   19990       568818\n",
       "2021-10-28       630980   20001       569115\n",
       "2021-10-29       631632   20007       569986\n",
       "2021-10-30       631892   20018       570246\n",
       "2021-10-31       632011   20025       570293\n",
       "\n",
       "[488 rows x 3 columns]"
      ]
     },
     "execution_count": 169,
     "metadata": {},
     "output_type": "execute_result"
    }
   ],
   "source": [
    "# Importing data \n",
    "cols = ['dt_referencia', 'confirmados', 'recuperados', 'obitos']\n",
    "\n",
    "df = pd.read_csv('./PE-data.csv', usecols=cols)\n",
    "df.filter\n",
    "\n",
    "initial_date = date(2020, 7, 1)\n",
    "end_date = date(2021, 10, 31)\n",
    "forecast_date = date(2022, 2, 28)\n",
    "unix_inital_date = time.mktime(initial_date.timetuple())\n",
    "unix_end_date = time.mktime(end_date.timetuple())\n",
    "\n",
    "\n",
    "datetime_series = pd.to_datetime(df['dt_referencia'])\n",
    "\n",
    "segs_per_d = 24 * 60 * 60\n",
    "\n",
    "datetime_index = pd.DatetimeIndex(datetime_series.values)\n",
    "\n",
    "df=df.set_index(datetime_index)\n",
    "print(type(datetime_index))\n",
    "\n",
    "df.drop('dt_referencia',axis=1,inplace=True)\n",
    "\n",
    "df = df.loc['2020-07-01':'2021-10-31']\n",
    "\n",
    "real_total_pop = 9.278E6\n",
    "\n",
    "n_days = (end_date - initial_date).days\n",
    "n_days_forecast = (forecast_date - initial_date).days\n",
    "# forècaz 28/02/2022\n",
    "\n",
    "t = np.array(list(range(0, n_days+1)))\n",
    "r = pd.date_range(start=initial_date, end=end_date)\n",
    "\n",
    "tf = np.array(list(range(0, n_days_forecast+1)))\n",
    "rf = pd.date_range(start=initial_date, end=forecast_date)\n",
    "df"
   ]
  },
  {
   "cell_type": "markdown",
   "metadata": {},
   "source": [
    "# Abstract\n",
    "This is a numerical analysis about COVID-19 in Pernambuco. It's going to model the behaviour of the pandemic between 01/07/2020 and 31/10/2021 and forecast the evolution of the pandemic up to 28/02/2022. We wil use a mix between the SIRV and SIRS model with vital dynamics."
   ]
  },
  {
   "cell_type": "markdown",
   "metadata": {},
   "source": [
    "# Introduction and Objectives\n",
    "The COVID-19 pandemic has changed an taken the lives of many people. Being able to forecast and test the outcome of different measures to contain the disease is fundamental to it's erradication and control.\n",
    "This is why a Numerical Model is so important in this scenario because it's a transparent sandbox where it's possible to test many different measures and alternative realities.\n",
    "\n",
    "We expect our model to be able to fit the historical data in Pernambuco about the COVID-19 pandemic and then create a _reasonable_ forecast. We also plan to tweak different parameters and see what would happen in those scenarios such as varying $\\beta$ (the effective contamination) to model the use of masks.\n"
   ]
  },
  {
   "cell_type": "markdown",
   "metadata": {},
   "source": [
    "# Methods\n",
    "In this draft we are going to model the pandemic with the basic $SIR$ model and we will compare the graph of this model to the actual historical data to tune the $\\beta$ and $\\gamma$ parameters. We'll also use real data about Pernambuco's population for the $S$, $I$, $R$ values. \n",
    "\n",
    "\n",
    "The $SIR$ model:\n",
    "$$\n",
    "\\begin{align*}\n",
    "S &= -\\beta SI  \\\\\n",
    "I &= \\beta SI - \\gamma I \\\\\n",
    "R &= \\gamma I \\\\\n",
    "\\end{align*}\n",
    "$$\n",
    "\n",
    "Which in `python` code is as follows:"
   ]
  },
  {
   "cell_type": "markdown",
   "metadata": {},
   "source": [
    "### Simplified $SIR$ model"
   ]
  },
  {
   "cell_type": "code",
   "execution_count": 6,
   "metadata": {},
   "outputs": [],
   "source": [
    "def SIR(u, t):\n",
    "\n",
    "    N = real_total_pop\n",
    "\n",
    "    S = u[0]\n",
    "    I = u[1]\n",
    "    R = u[2]\n",
    "\n",
    "    beta = 0.08 / N\n",
    "    gamma = 0.0785\n",
    "\n",
    "    return [-beta*S*I, beta*S*I - gamma*I, gamma*I]\n"
   ]
  },
  {
   "cell_type": "markdown",
   "metadata": {},
   "source": [
    "Those `beta` and `gamma` parameters were tuned by hand to match the real data.\n"
   ]
  },
  {
   "cell_type": "code",
   "execution_count": 7,
   "metadata": {},
   "outputs": [
    {
     "data": {
      "image/png": "[encoded data removed]",
      "text/plain": [
       "<Figure size 432x288 with 1 Axes>"
      ]
     },
     "metadata": {
      "needs_background": "light"
     },
     "output_type": "display_data"
    }
   ],
   "source": [
    "model_pop = real_total_pop \n",
    "model_infected = (61119 - (41925 + 4968)) / real_total_pop\n",
    "model_recovered = (41925 + 4968) / real_total_pop\n",
    "u = [model_pop - (model_pop * model_infected), model_pop * model_infected, model_pop * model_recovered]\n",
    "\n",
    "solution = odeint(SIR, u, t)\n",
    "S = solution[:, 0]\n",
    "I = solution[:, 1]\n",
    "R = solution[:, 2]\n",
    "\n",
    "plt.grid()\n",
    "plt.plot(r, S, label=\"S\", color=\"darkblue\", linestyle=\"dashed\")\n",
    "plt.plot(r, I, label=\"I\", color=\"red\", linestyle=\"dashed\")\n",
    "plt.plot(df['confirmados'] - (df['obitos'] + df['recuperados']), label=\"Real I\", color=\"red\")\n",
    "plt.plot(r, R, label=\"R\", color=\"black\", linestyle=\"dashed\")\n",
    "plt.plot(df['obitos'] + df['recuperados'], label=\"Real R\", color=\"black\")\n",
    "plt.legend()\n",
    "plt.show()\n",
    "#plt.plot(t,odeint(SIR, u, t)[:, 1])"
   ]
  },
  {
   "cell_type": "markdown",
   "metadata": {},
   "source": [
    "Now plotting just the $I$ and the $R$ for better detail"
   ]
  },
  {
   "cell_type": "code",
   "execution_count": 8,
   "metadata": {},
   "outputs": [
    {
     "data": {
      "image/png": "[encoded data removed]",
      "text/plain": [
       "<Figure size 432x288 with 1 Axes>"
      ]
     },
     "metadata": {
      "needs_background": "light"
     },
     "output_type": "display_data"
    }
   ],
   "source": [
    "plt.grid()\n",
    "#plt.plot(r, S, label=\"S\", color=\"darkblue\", linestyle=\"dashed\")\n",
    "plt.plot(r, I, label=\"I\", color=\"red\", linestyle=\"dashed\")\n",
    "plt.plot(df['confirmados'] - (df['obitos'] + df['recuperados']), label=\"Real I\", color=\"red\")\n",
    "plt.plot(r, R, label=\"R\", color=\"black\", linestyle=\"dashed\")\n",
    "plt.plot(df['obitos'] + df['recuperados'], label=\"Real R\", color=\"black\")\n",
    "plt.legend()\n",
    "plt.show()"
   ]
  },
  {
   "cell_type": "markdown",
   "metadata": {},
   "source": [
    "### Final $SEIR$ model"
   ]
  },
  {
   "cell_type": "markdown",
   "metadata": {},
   "source": [
    "For the final paper we'll use a more sophisticated model for the pandemic. It's the $SEIR$ model, which takes into account _vital dynamics_ (people being born and dying of natural causes). It also has a different state where a person can be: _Exposed_, which they can die or become infected."
   ]
  },
  {
   "cell_type": "markdown",
   "metadata": {},
   "source": [
    "$$\n",
    "\\begin{align*}\n",
    "\n",
    "\\frac{dS}{dt} &= \\mu N - \\mu S - \\frac{\\beta IS}{N} \\\\ \\\\\n",
    "\\frac{dE}{dt} &= \\frac{\\beta IS}{N} - (\\mu + a)E \\\\ \\\\\n",
    "\\frac{dI}{dt} &= a E - (\\gamma + \\mu) I \\\\ \\\\\n",
    "\\frac{dR}{dt} &= \\gamma I - \\mu R \\\\ \\\\\n",
    "\n",
    "\n",
    "\\end{align*}\n",
    "$$"
   ]
  },
  {
   "cell_type": "markdown",
   "metadata": {},
   "source": [
    "We'll also assume that the birth rate and death rate are the same. But this doesn't make the vital dynamics useless because it feeds constantly with fresh new Succeptible people.\n",
    "\n",
    "This translates to this Python code:"
   ]
  },
  {
   "cell_type": "code",
   "execution_count": 204,
   "metadata": {},
   "outputs": [],
   "source": [
    "def SEIR(u, t):\n",
    "\n",
    "    N = real_total_pop\n",
    "\n",
    "    S = u[0]\n",
    "    E = u[1]\n",
    "    I = u[2]\n",
    "    R = u[3]\n",
    "\n",
    "    beta = 0.074 / N\n",
    "    gamma = 1/18. # Infecctious period https://www.nature.com/articles/s41467-020-20568-4\n",
    "    mu = 0.0028\n",
    "    a = 1/14. # Time that a person takes to become infecctious\n",
    "    return [\n",
    "        mu*N - mu*S - beta*S*I,\n",
    "        beta*S*I - (mu + a) * E,\n",
    "        a*E - (gamma + mu) * I,\n",
    "        gamma*I - mu*R,\n",
    "    ]\n"
   ]
  },
  {
   "cell_type": "code",
   "execution_count": 209,
   "metadata": {},
   "outputs": [
    {
     "data": {
      "image/png": "[encoded data removed]",
      "text/plain": [
       "<Figure size 432x288 with 1 Axes>"
      ]
     },
     "metadata": {
      "needs_background": "light"
     },
     "output_type": "display_data"
    }
   ],
   "source": [
    "u = [model_pop - (model_pop * model_infected),0, model_pop * model_infected,model_pop * model_recovered]\n",
    "solution = odeint(SEIR, u, tf)\n",
    "S = solution[:, 0]\n",
    "E = solution[:, 1]\n",
    "I = solution[:, 2]\n",
    "R = solution[:, 3]\n",
    "\n",
    "plt.grid()\n",
    "plt.plot(rf, S, label=\"S\", color=\"darkblue\", linestyle=\"dotted\")\n",
    "plt.plot(rf, E, label=\"E\", color=\"darkgreen\", linestyle=\"dotted\")\n",
    "plt.plot(rf, I, label=\"I\", color=\"red\", linestyle=\"dashed\")\n",
    "plt.plot(df['confirmados'] - (df['obitos'] + df['recuperados']), label=\"Real I\", color=\"red\")\n",
    "plt.plot(rf, R, label=\"R\", color=\"black\", linestyle=\"dashed\")\n",
    "plt.plot(df['obitos'] + df['recuperados'], label=\"Real R\", color=\"black\")\n",
    "#plt.plot(df['confirmados'] - (df['obitos'] + df['recuperados']), label=\"Real I\", color=\"red\")\n",
    "#plt.plot(r, R, label=\"R\", color=\"black\", linestyle=\"dashed\")\n",
    "#plt.plot(df['obitos'] + df['recuperados'], label=\"Real R\", color=\"black\")\n",
    "plt.legend()\n",
    "plt.show()"
   ]
  },
  {
   "cell_type": "code",
   "execution_count": 210,
   "metadata": {},
   "outputs": [
    {
     "data": {
      "image/png": "[encoded data removed]",
      "text/plain": [
       "<Figure size 432x288 with 1 Axes>"
      ]
     },
     "metadata": {
      "needs_background": "light"
     },
     "output_type": "display_data"
    }
   ],
   "source": [
    "\n",
    "plt.grid()\n",
    "plt.plot(rf, I, label=\"I\", color=\"red\", linestyle=\"dashed\")\n",
    "plt.plot(df['confirmados'] - (df['obitos'] + df['recuperados']), label=\"Real I\", color=\"red\")\n",
    "plt.plot(rf, R, label=\"R\", color=\"black\", linestyle=\"dashed\")\n",
    "plt.plot(df['obitos'] + df['recuperados'], label=\"Real R\", color=\"black\")\n",
    "plt.legend()\n",
    "plt.show()"
   ]
  },
  {
   "cell_type": "markdown",
   "metadata": {},
   "source": [
    "This model also forecasts the direction which the pandemic is going up to 28/02/2022.\n",
    "\n",
    "The difference in the latter days can be explained by the reduction of $\\beta$ with the start of the vaccination of the population and quarantines imposed by Pernambuco's government."
   ]
  },
  {
   "cell_type": "markdown",
   "metadata": {},
   "source": [
    "# Results and Discussion\n",
    "### Error\n",
    "### Forecast\n",
    "### Interesting findings\n",
    "The $SEIR$ model with populational dynamics (in some configuration of parameters) presents an oscilatory behaviour similiar to a second order differential equation with damping."
   ]
  },
  {
   "cell_type": "markdown",
   "metadata": {},
   "source": [
    "# Conclusion\n",
    "In this project we saw how diffential equations can be really useful in the modeling process of dynamical systems. It was also really rewarding to tweak the model and understand every bit of it's inner workings and still be surprised by the solutions presented.\n",
    "\n",
    "We think that differential models are a really valuable tool is this field, but it's easy to see many different applications as well. With a good enough model (specially with the correct variation of $\\beta$)"
   ]
  }
 ],
 "metadata": {
  "interpreter": {
   "hash": "e7370f93d1d0cde622a1f8e1c04877d8463912d04d973331ad4851f04de6915a"
  },
  "kernelspec": {
   "display_name": "Python 3.10.0 64-bit",
   "language": "python",
   "name": "python3"
  },
  "language_info": {
   "codemirror_mode": {
    "name": "ipython",
    "version": 3
   },
   "file_extension": ".py",
   "mimetype": "text/x-python",
   "name": "python",
   "nbconvert_exporter": "python",
   "pygments_lexer": "ipython3",
   "version": "3.10.0"
  },
  "orig_nbformat": 4
 },
 "nbformat": 4,
 "nbformat_minor": 2
}
