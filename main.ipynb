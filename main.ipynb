{
 "cells": [
  {
   "cell_type": "code",
   "execution_count": 1,
   "metadata": {},
   "outputs": [],
   "source": [
    "import matplotlib.pyplot as plt\n",
    "from math import *\n",
    "import numpy as np\n",
    "import pandas as pd\n",
    "from scipy.integrate import odeint\n",
    "from datetime import date\n",
    "import time\n",
    "import matplotlib.dates as mdates\n",
    "\n"
   ]
  },
  {
   "cell_type": "code",
   "execution_count": 11,
   "metadata": {},
   "outputs": [
    {
     "name": "stdout",
     "output_type": "stream",
     "text": [
      "            confirmados  obitos  recuperados\n",
      "2020-07-01        61119    4968        41925\n",
      "2020-07-02        62362    5068        42456\n",
      "2020-07-03        63457    5116        44314\n",
      "2020-07-04        65129    5143        44568\n",
      "2020-07-05        65642    5163        46417\n",
      "...                 ...     ...          ...\n",
      "2021-10-27       630520   19990       568818\n",
      "2021-10-28       630980   20001       569115\n",
      "2021-10-29       631632   20007       569986\n",
      "2021-10-30       631892   20018       570246\n",
      "2021-10-31       632011   20025       570293\n",
      "\n",
      "[488 rows x 3 columns]\n"
     ]
    }
   ],
   "source": [
    "# Importing data \n",
    "cols = ['dt_referencia', 'confirmados', 'recuperados', 'obitos']\n",
    "\n",
    "df = pd.read_csv('./PE-data.csv', usecols=cols)\n",
    "df.filter\n",
    "\n",
    "initial_date = date(2020, 7, 1)\n",
    "end_date = date(2021, 10, 31)\n",
    "unix_inital_date = time.mktime(initial_date.timetuple())\n",
    "unix_end_date = time.mktime(end_date.timetuple())\n",
    "\n",
    "\n",
    "datetime_series = pd.to_datetime(df['dt_referencia'])\n",
    "datetime_index = pd.DatetimeIndex(datetime_series.values)\n",
    "df=df.set_index(datetime_index)\n",
    "df.drop('dt_referencia',axis=1,inplace=True)\n",
    "\n",
    "\n",
    "df = df.loc['2020-07-01':'2021-10-31']\n",
    "print(df)\n",
    "\n",
    "real_total_pop = 9.278E6\n",
    "\n",
    "n_days = (end_date - initial_date).days\n",
    "\n",
    "k = 1e3\n",
    "t = np.linspace(k, k+n_days, 10000)\n",
    "\n",
    "r = pd.date_range(start=initial_date, end=end_date)"
   ]
  },
  {
   "cell_type": "markdown",
   "metadata": {},
   "source": [
    "# Abstract\n",
    "This is a numerical analysis about COVID-19 in Pernambuco. It's going to model the behaviour of the pandemic between 01/07/2020 and 31/10/2021 and forecast the evolution of the pandemic up to 28/02/2022. We wil use a mix between the SIRV and SIRS model with vital dynamics."
   ]
  },
  {
   "cell_type": "markdown",
   "metadata": {},
   "source": [
    "# Introduction and Objectives\n",
    "The COVID-19 pandemic has changed an taken the lives of many people. Being able to forecast and test the outcome of different measures to contain the disease is fundamental to it's erradication and control.\n",
    "This is why a Numerical Model is so important in this scenario because it's a transparent sandbox where it's possible to test many different measures and alternative realities.\n",
    "\n",
    "We expect our model to be able to fit the historical data in Pernambuco about the COVID-19 pandemic and then create a _reasonable_ forecast. We also plan to tweak different parameters and see what would happen in those scenarios such as varying $\\beta$ (the effective contamination) to model the use of masks.\n"
   ]
  },
  {
   "cell_type": "markdown",
   "metadata": {},
   "source": [
    "# Methods\n",
    "In this draft we are going to model the pandemic with the basic $SIR$ model and we will compare the graph of this model to the actual historical data to tune the $\\beta$ and $\\gamma$ parameters. We'll also use real data about Pernambuco's population for the $S$, $I$, $R$ values. "
   ]
  },
  {
   "cell_type": "code",
   "execution_count": 3,
   "metadata": {},
   "outputs": [],
   "source": [
    "def SIR(u, t):\n",
    "\n",
    "    N = real_total_pop\n",
    "\n",
    "    S = u[0]\n",
    "    I = u[1]\n",
    "    R = u[2]\n",
    "\n",
    "    beta = 0.2 / N\n",
    "    gamma = 0.02\n",
    "\n",
    "    return [-beta*S*I, beta*S*I - gamma*I, gamma*I]\n"
   ]
  },
  {
   "cell_type": "code",
   "execution_count": 12,
   "metadata": {},
   "outputs": [
    {
     "data": {
      "image/png": "[encoded data removed]",
      "text/plain": [
       "<Figure size 432x288 with 1 Axes>"
      ]
     },
     "metadata": {
      "needs_background": "light"
     },
     "output_type": "display_data"
    }
   ],
   "source": [
    "model_pop = real_total_pop \n",
    "model_infected = 0.1\n",
    "u = [model_pop - (model_pop * model_infected), model_pop * model_infected, 0.]\n",
    "\n",
    "plt.grid()\n",
    "plt.plot(t, odeint(SIR, u, t))# df['confirmados'])\n",
    "plt.plot(df['confirmados'])\n",
    "plt.show()\n",
    "#plt.plot(t,odeint(SIR, u, t)[:, 1])"
   ]
  },
  {
   "cell_type": "code",
   "execution_count": 6,
   "metadata": {},
   "outputs": [
    {
     "data": {
      "image/png": "[encoded data removed]",
      "text/plain": [
       "<Figure size 432x288 with 1 Axes>"
      ]
     },
     "metadata": {
      "needs_background": "light"
     },
     "output_type": "display_data"
    }
   ],
   "source": [
    "\n",
    "#plt.gca().xaxis.set_major_formatter(mdates.DateFormatter('%m/%d/%Y'))\n",
    "#plt.gca().xaxis.set_major_locator(mdates.DayLocator())\n",
    "plt.grid()\n",
    "plt.plot(df['confirmados'])\n",
    "plt.plot(df['obitos'])\n",
    "plt.show()\n",
    "#plt.gcf().autofmt_xdate()"
   ]
  },
  {
   "cell_type": "markdown",
   "metadata": {},
   "source": [
    "# Results and Discussion"
   ]
  },
  {
   "cell_type": "markdown",
   "metadata": {},
   "source": [
    "# Conclusion"
   ]
  }
 ],
 "metadata": {
  "interpreter": {
   "hash": "e7370f93d1d0cde622a1f8e1c04877d8463912d04d973331ad4851f04de6915a"
  },
  "kernelspec": {
   "display_name": "Python 3.10.0 64-bit",
   "language": "python",
   "name": "python3"
  },
  "language_info": {
   "codemirror_mode": {
    "name": "ipython",
    "version": 3
   },
   "file_extension": ".py",
   "mimetype": "text/x-python",
   "name": "python",
   "nbconvert_exporter": "python",
   "pygments_lexer": "ipython3",
   "version": "3.10.0"
  },
  "orig_nbformat": 4
 },
 "nbformat": 4,
 "nbformat_minor": 2
}
